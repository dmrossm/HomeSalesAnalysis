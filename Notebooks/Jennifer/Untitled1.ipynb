{
 "cells": [
  {
   "cell_type": "code",
   "execution_count": null,
   "metadata": {},
   "outputs": [],
   "source": [
    "def evaluate(y_tr, tr_preds, y_te, te_preds):\n",
    "    \"\"\"\n",
    "    Evaluate the amount of error between my model's predictions and the actual values for both a train and a test set.\n",
    "    \n",
    "    Inputs:\n",
    "    y_train - array like, actual vales for 'price' for my train dataset\n",
    "    train_preds - array like, predicted values for 'price' for my train dataset\n",
    "    y_teast - array like, actual vales for 'price' for my train dataset\n",
    "    test_preds - array like, predicted values for 'price' for my train dataset\n",
    "    \n",
    "    Outputs:\n",
    "    \n",
    "    \"\"\"\n",
    "    \n",
    "    \n",
    "    print(f\"Train R2: {r2_score(y_tr, tr_preds):.4f}\")\n",
    "    print(f\"Test R2: {r2_score(y_te, te_preds):.4f}\")\n",
    "    print('****')\n",
    "    print(f\"Train RMSE: ${mean_squared_error(y_tr, tr_preds, squared = False):,.2f}\")\n",
    "    print(f\"Test RMSE: ${mean_squared_error(y_te, te_preds, squared = False):,.2f}\") \n",
    "    print('****')\n",
    "    print(f\"Train MAE: ${mean_absolute_error(y_tr, tr_preds):,.2f}\")\n",
    "    print(f\"Test MAE: ${mean_absolute_error(y_te, te_preds):,.2f}\")\n",
    "    \n",
    "    #calculate our residiuals\n",
    "    \n",
    "    train_residuals = y_tr - tr_preds\n",
    "    test_residuals = y_te - te_preds\n",
    "    #Scatter plot\n",
    "    plt.scatter(tr_preds,train_residuals, label = \"Train\")\n",
    "    plt.scatter(te_preds, test_residuals, label = \"Test\")\n",
    "    \n",
    "    plt.axhline(y = 0, color = 'red', label = '0')\n",
    "    plt.xlabel('predictions')\n",
    "    plt.ylabel('residuals')\n",
    "    plt.legend()\n",
    "    plt.show()"
   ]
  }
 ],
 "metadata": {
  "kernelspec": {
   "display_name": "Python (learn-env)",
   "language": "python",
   "name": "learn-env"
  },
  "language_info": {
   "codemirror_mode": {
    "name": "ipython",
    "version": 3
   },
   "file_extension": ".py",
   "mimetype": "text/x-python",
   "name": "python",
   "nbconvert_exporter": "python",
   "pygments_lexer": "ipython3",
   "version": "3.8.5"
  }
 },
 "nbformat": 4,
 "nbformat_minor": 4
}
